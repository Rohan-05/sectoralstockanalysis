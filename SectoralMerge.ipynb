{
  "nbformat": 4,
  "nbformat_minor": 0,
  "metadata": {
    "colab": {
      "provenance": []
    },
    "kernelspec": {
      "name": "python3",
      "display_name": "Python 3"
    },
    "language_info": {
      "name": "python"
    }
  },
  "cells": [
    {
      "cell_type": "code",
      "execution_count": 18,
      "metadata": {
        "id": "d2ZOu_Hc5TDU"
      },
      "outputs": [],
      "source": [
        "import pandas as pd"
      ]
    },
    {
      "cell_type": "code",
      "source": [
        "dataset_path = '/content/drive/MyDrive/MS/4th Sem/DATA 606 Capstone/Dataset'"
      ],
      "metadata": {
        "id": "KgJpGzRBcxmz"
      },
      "execution_count": 19,
      "outputs": []
    },
    {
      "cell_type": "code",
      "source": [
        "def merge_files(files_list, category):\n",
        "  dfs_list = []\n",
        "  for file in files_list:\n",
        "    df = pd.read_csv(file)\n",
        "    dfs_list.append(df)\n",
        "\n",
        "  merged_df = pd.concat(dfs_list, ignore_index = True)\n",
        "  merged_df.to_csv(f'{dataset_path}/Merged Data/{category}.csv', index = False)"
      ],
      "metadata": {
        "id": "8Wgj7fbShpnY"
      },
      "execution_count": 20,
      "outputs": []
    },
    {
      "cell_type": "code",
      "source": [
        "fin_serv_files = [f'{dataset_path}/SBIN.csv', f'{dataset_path}/HDFC.csv', f'{dataset_path}/HDFCBANK.csv',\n",
        "                  f'{dataset_path}/ICICIBANK.csv', f'{dataset_path}/INDUSINDBK.csv', f'{dataset_path}/KOTAKBANK.csv',\n",
        "                  f'{dataset_path}/AXISBANK.csv', f'{dataset_path}/BAJAJFINSV.csv', f'{dataset_path}/BAJFINANCE.csv']"
      ],
      "metadata": {
        "id": "sE3KH2k8cGA9"
      },
      "execution_count": 21,
      "outputs": []
    },
    {
      "cell_type": "code",
      "source": [
        "inf_tech_files = [f'{dataset_path}/WIPRO.csv', f'{dataset_path}/TCS.csv', f'{dataset_path}/TECHM.csv',\n",
        "                  f'{dataset_path}/HCLTECH.csv', f'{dataset_path}/INFY.csv']"
      ],
      "metadata": {
        "id": "weIOcoErlC00"
      },
      "execution_count": 22,
      "outputs": []
    },
    {
      "cell_type": "code",
      "source": [
        "oil_gas_files = [f'{dataset_path}/ONGC.csv', f'{dataset_path}/RELIANCE.csv', f'{dataset_path}/COALINDIA.csv',\n",
        "                 f'{dataset_path}/GAIL.csv', f'{dataset_path}/IOC.csv', f'{dataset_path}/BPCL.csv']"
      ],
      "metadata": {
        "id": "XA1B0x6-CrdF"
      },
      "execution_count": 23,
      "outputs": []
    },
    {
      "cell_type": "code",
      "source": [
        "fmcg_files = [f'{dataset_path}/NESTLEIND.csv', f'{dataset_path}/HINDUNILVR.csv', f'{dataset_path}/ITC.csv', f'{dataset_path}/BRITANNIA.csv']"
      ],
      "metadata": {
        "id": "rgUanh_PDIZn"
      },
      "execution_count": 24,
      "outputs": []
    },
    {
      "cell_type": "code",
      "source": [
        "auto_files = [f'{dataset_path}/TATAMOTORS.csv', f'{dataset_path}/EICHERMOT.csv', f'{dataset_path}/HEROMOTOCO.csv',\n",
        "              f'{dataset_path}/MARUTI.csv', f'{dataset_path}/MM.csv', f'{dataset_path}/BAJAJ-AUTO.csv']"
      ],
      "metadata": {
        "id": "Ye9o67JDEC3E"
      },
      "execution_count": 25,
      "outputs": []
    },
    {
      "cell_type": "code",
      "source": [
        "health_files = [f'{dataset_path}/SUNPHARMA.csv', f'{dataset_path}/DRREDDY.csv', f'{dataset_path}/CIPLA.csv']"
      ],
      "metadata": {
        "id": "P8_NhN17Eb4z"
      },
      "execution_count": 26,
      "outputs": []
    },
    {
      "cell_type": "code",
      "source": [
        "constr_files = [f'{dataset_path}/LT.csv']"
      ],
      "metadata": {
        "id": "bnfaOSdvEsey"
      },
      "execution_count": 27,
      "outputs": []
    },
    {
      "cell_type": "code",
      "source": [
        "metal_files = [f'{dataset_path}/VEDL.csv', f'{dataset_path}/TATASTEEL.csv', f'{dataset_path}/HINDALCO.csv', f'{dataset_path}/JSWSTEEL.csv']"
      ],
      "metadata": {
        "id": "2uV9HYVaE2FQ"
      },
      "execution_count": 28,
      "outputs": []
    },
    {
      "cell_type": "code",
      "source": [
        "cons_dur_files = [f'{dataset_path}/TITAN.csv', f'{dataset_path}/ASIANPAINT.csv']"
      ],
      "metadata": {
        "id": "qohOPGYcFJA4"
      },
      "execution_count": 29,
      "outputs": []
    },
    {
      "cell_type": "code",
      "source": [
        "telecom_files = [f'{dataset_path}/ZEEL.csv', f'{dataset_path}/INFRATEL.csv', f'{dataset_path}/BHARTIARTL.csv']"
      ],
      "metadata": {
        "id": "dH1B4i_RFZLg"
      },
      "execution_count": 30,
      "outputs": []
    },
    {
      "cell_type": "code",
      "source": [
        "power_files = [f'{dataset_path}/NTPC.csv', f'{dataset_path}/POWERGRID.csv']"
      ],
      "metadata": {
        "id": "ax2QoJDbFokq"
      },
      "execution_count": 31,
      "outputs": []
    },
    {
      "cell_type": "code",
      "source": [
        "con_mat_files = [f'{dataset_path}/ULTRACEMCO.csv', f'{dataset_path}/SHREECEM.csv', f'{dataset_path}/GRASIM.csv']"
      ],
      "metadata": {
        "id": "T-iSXS0lFyo5"
      },
      "execution_count": 32,
      "outputs": []
    },
    {
      "cell_type": "code",
      "source": [
        "services_files = [f'{dataset_path}/ADANIPORTS.csv']"
      ],
      "metadata": {
        "id": "OQcTgJedGBVf"
      },
      "execution_count": 33,
      "outputs": []
    },
    {
      "cell_type": "code",
      "source": [
        "chem_files = [f'{dataset_path}/UPL.csv']"
      ],
      "metadata": {
        "id": "Qu0jcF0-GIgv"
      },
      "execution_count": 34,
      "outputs": []
    },
    {
      "cell_type": "code",
      "source": [
        "merge_files(fin_serv_files, 'Financial_Services')"
      ],
      "metadata": {
        "id": "I3YX-XnAkyc3"
      },
      "execution_count": 35,
      "outputs": []
    },
    {
      "cell_type": "code",
      "source": [
        "merge_files(inf_tech_files, 'Information_Technology')"
      ],
      "metadata": {
        "id": "XHWOOjf1Gi-x"
      },
      "execution_count": 36,
      "outputs": []
    },
    {
      "cell_type": "code",
      "source": [
        "merge_files(oil_gas_files, 'Oil_and_Gas')"
      ],
      "metadata": {
        "id": "xEpPOk3fGpP9"
      },
      "execution_count": 37,
      "outputs": []
    },
    {
      "cell_type": "code",
      "source": [
        "merge_files(fmcg_files, 'FMCG')"
      ],
      "metadata": {
        "id": "-88PR347GvMK"
      },
      "execution_count": 38,
      "outputs": []
    },
    {
      "cell_type": "code",
      "source": [
        "merge_files(auto_files, 'Automobile')"
      ],
      "metadata": {
        "id": "q4guJylgG0El"
      },
      "execution_count": 39,
      "outputs": []
    },
    {
      "cell_type": "code",
      "source": [
        "merge_files(health_files, 'Healthcare')"
      ],
      "metadata": {
        "id": "iZEYI1tTG7t6"
      },
      "execution_count": 40,
      "outputs": []
    },
    {
      "cell_type": "code",
      "source": [
        "merge_files(constr_files, 'Construction')"
      ],
      "metadata": {
        "id": "2DGMhzJOHB7z"
      },
      "execution_count": 41,
      "outputs": []
    },
    {
      "cell_type": "code",
      "source": [
        "merge_files(metal_files, 'Metals_and_Mining')"
      ],
      "metadata": {
        "id": "lqswo-MTHIsV"
      },
      "execution_count": 42,
      "outputs": []
    },
    {
      "cell_type": "code",
      "source": [
        "merge_files(cons_dur_files, 'Consumer_Durables')"
      ],
      "metadata": {
        "id": "k39E5TQkHPOG"
      },
      "execution_count": 43,
      "outputs": []
    },
    {
      "cell_type": "code",
      "source": [
        "merge_files(telecom_files, 'Telecommunication')"
      ],
      "metadata": {
        "id": "YqGv632HHVrB"
      },
      "execution_count": 44,
      "outputs": []
    },
    {
      "cell_type": "code",
      "source": [
        "merge_files(power_files, 'Power')"
      ],
      "metadata": {
        "id": "QnoGb0MGHdxr"
      },
      "execution_count": 45,
      "outputs": []
    },
    {
      "cell_type": "code",
      "source": [
        "merge_files(con_mat_files, 'Construction_Materials')"
      ],
      "metadata": {
        "id": "GSL9BPecHiy1"
      },
      "execution_count": 46,
      "outputs": []
    },
    {
      "cell_type": "code",
      "source": [
        "merge_files(services_files, 'Services')"
      ],
      "metadata": {
        "id": "LbqD46X-HpR3"
      },
      "execution_count": 47,
      "outputs": []
    },
    {
      "cell_type": "code",
      "source": [
        "merge_files(chem_files, 'Chemicals')"
      ],
      "metadata": {
        "id": "kIVTl1KgHzlj"
      },
      "execution_count": 48,
      "outputs": []
    },
    {
      "cell_type": "code",
      "source": [],
      "metadata": {
        "id": "BzKBEmJ8JZes"
      },
      "execution_count": null,
      "outputs": []
    }
  ]
}